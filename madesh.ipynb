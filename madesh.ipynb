{
  "nbformat": 4,
  "nbformat_minor": 0,
  "metadata": {
    "colab": {
      "provenance": []
    },
    "kernelspec": {
      "name": "python3",
      "display_name": "Python 3"
    },
    "language_info": {
      "name": "python"
    }
  },
  "cells": [
    {
      "cell_type": "code",
      "execution_count": 3,
      "metadata": {
        "id": "zXKVn21D4qwZ"
      },
      "outputs": [],
      "source": [
        "import pandas as pd"
      ]
    },
    {
      "cell_type": "code",
      "source": [
        "df = pd.read_csv('/content/final_data.csv')"
      ],
      "metadata": {
        "id": "1aeqG2xvD7uY"
      },
      "execution_count": 4,
      "outputs": []
    },
    {
      "cell_type": "code",
      "source": [
        "\n",
        "df"
      ],
      "metadata": {
        "colab": {
          "base_uri": "https://localhost:8080/",
          "height": 423
        },
        "id": "Bx7QUxfjEIPW",
        "outputId": "aadd4a6b-28b5-4aec-f8b9-8050ed146dd5"
      },
      "execution_count": 5,
      "outputs": [
        {
          "output_type": "execute_result",
          "data": {
            "text/plain": [
              "                                            Discription  \\\n",
              "0     KINGDOM OF WHITE Replay Full Sleeves White Shi...   \n",
              "1                   United Colors of Benetton Men Shirt   \n",
              "2     KINGDOM OF WHITE Cloudy Full Sleeves White Kur...   \n",
              "3                   United Colors of Benetton Men Shirt   \n",
              "4     Dennis Lingo Men's Solid Slim Fit Cotton Casua...   \n",
              "...                                                 ...   \n",
              "1251              Multi-color High Neck Heart Print Top   \n",
              "1252                  Women Self Design Regular Fit Top   \n",
              "1253                                     Lilac Crop Top   \n",
              "1254                            Blue Printed A-Line Top   \n",
              "1255                       Peacock Cinched Shirt Jacket   \n",
              "\n",
              "                                                    url        Vendor  \n",
              "0     https://www.amazon.in/sspa/click?ie=UTF8&spc=M...        Amazon  \n",
              "1     https://www.amazon.in/sspa/click?ie=UTF8&spc=M...        Amazon  \n",
              "2     https://www.amazon.in/sspa/click?ie=UTF8&spc=M...        Amazon  \n",
              "3     https://www.amazon.in/sspa/click?ie=UTF8&spc=M...        Amazon  \n",
              "4     https://www.amazon.in/Dennis-Lingo-Solid-Casua...        Amazon  \n",
              "...                                                 ...           ...  \n",
              "1251  https://www.nykaafashion.com/mixt-by-nykaa-fas...  NykaaFashion  \n",
              "1252  https://www.nykaafashion.com/only-women-self-d...  NykaaFashion  \n",
              "1253  https://www.nykaafashion.com/i-saw-it-first-li...  NykaaFashion  \n",
              "1254  https://www.nykaafashion.com/qomn-blue-printed...  NykaaFashion  \n",
              "1255  https://www.nykaafashion.com/shaye-peacock-cin...  NykaaFashion  \n",
              "\n",
              "[1256 rows x 3 columns]"
            ],
            "text/html": [
              "\n",
              "  <div id=\"df-80d81f20-e31c-4c9f-b2a0-3f637826e0c4\">\n",
              "    <div class=\"colab-df-container\">\n",
              "      <div>\n",
              "<style scoped>\n",
              "    .dataframe tbody tr th:only-of-type {\n",
              "        vertical-align: middle;\n",
              "    }\n",
              "\n",
              "    .dataframe tbody tr th {\n",
              "        vertical-align: top;\n",
              "    }\n",
              "\n",
              "    .dataframe thead th {\n",
              "        text-align: right;\n",
              "    }\n",
              "</style>\n",
              "<table border=\"1\" class=\"dataframe\">\n",
              "  <thead>\n",
              "    <tr style=\"text-align: right;\">\n",
              "      <th></th>\n",
              "      <th>Discription</th>\n",
              "      <th>url</th>\n",
              "      <th>Vendor</th>\n",
              "    </tr>\n",
              "  </thead>\n",
              "  <tbody>\n",
              "    <tr>\n",
              "      <th>0</th>\n",
              "      <td>KINGDOM OF WHITE Replay Full Sleeves White Shi...</td>\n",
              "      <td>https://www.amazon.in/sspa/click?ie=UTF8&amp;spc=M...</td>\n",
              "      <td>Amazon</td>\n",
              "    </tr>\n",
              "    <tr>\n",
              "      <th>1</th>\n",
              "      <td>United Colors of Benetton Men Shirt</td>\n",
              "      <td>https://www.amazon.in/sspa/click?ie=UTF8&amp;spc=M...</td>\n",
              "      <td>Amazon</td>\n",
              "    </tr>\n",
              "    <tr>\n",
              "      <th>2</th>\n",
              "      <td>KINGDOM OF WHITE Cloudy Full Sleeves White Kur...</td>\n",
              "      <td>https://www.amazon.in/sspa/click?ie=UTF8&amp;spc=M...</td>\n",
              "      <td>Amazon</td>\n",
              "    </tr>\n",
              "    <tr>\n",
              "      <th>3</th>\n",
              "      <td>United Colors of Benetton Men Shirt</td>\n",
              "      <td>https://www.amazon.in/sspa/click?ie=UTF8&amp;spc=M...</td>\n",
              "      <td>Amazon</td>\n",
              "    </tr>\n",
              "    <tr>\n",
              "      <th>4</th>\n",
              "      <td>Dennis Lingo Men's Solid Slim Fit Cotton Casua...</td>\n",
              "      <td>https://www.amazon.in/Dennis-Lingo-Solid-Casua...</td>\n",
              "      <td>Amazon</td>\n",
              "    </tr>\n",
              "    <tr>\n",
              "      <th>...</th>\n",
              "      <td>...</td>\n",
              "      <td>...</td>\n",
              "      <td>...</td>\n",
              "    </tr>\n",
              "    <tr>\n",
              "      <th>1251</th>\n",
              "      <td>Multi-color High Neck Heart Print Top</td>\n",
              "      <td>https://www.nykaafashion.com/mixt-by-nykaa-fas...</td>\n",
              "      <td>NykaaFashion</td>\n",
              "    </tr>\n",
              "    <tr>\n",
              "      <th>1252</th>\n",
              "      <td>Women Self Design Regular Fit Top</td>\n",
              "      <td>https://www.nykaafashion.com/only-women-self-d...</td>\n",
              "      <td>NykaaFashion</td>\n",
              "    </tr>\n",
              "    <tr>\n",
              "      <th>1253</th>\n",
              "      <td>Lilac Crop Top</td>\n",
              "      <td>https://www.nykaafashion.com/i-saw-it-first-li...</td>\n",
              "      <td>NykaaFashion</td>\n",
              "    </tr>\n",
              "    <tr>\n",
              "      <th>1254</th>\n",
              "      <td>Blue Printed A-Line Top</td>\n",
              "      <td>https://www.nykaafashion.com/qomn-blue-printed...</td>\n",
              "      <td>NykaaFashion</td>\n",
              "    </tr>\n",
              "    <tr>\n",
              "      <th>1255</th>\n",
              "      <td>Peacock Cinched Shirt Jacket</td>\n",
              "      <td>https://www.nykaafashion.com/shaye-peacock-cin...</td>\n",
              "      <td>NykaaFashion</td>\n",
              "    </tr>\n",
              "  </tbody>\n",
              "</table>\n",
              "<p>1256 rows × 3 columns</p>\n",
              "</div>\n",
              "      <button class=\"colab-df-convert\" onclick=\"convertToInteractive('df-80d81f20-e31c-4c9f-b2a0-3f637826e0c4')\"\n",
              "              title=\"Convert this dataframe to an interactive table.\"\n",
              "              style=\"display:none;\">\n",
              "        \n",
              "  <svg xmlns=\"http://www.w3.org/2000/svg\" height=\"24px\"viewBox=\"0 0 24 24\"\n",
              "       width=\"24px\">\n",
              "    <path d=\"M0 0h24v24H0V0z\" fill=\"none\"/>\n",
              "    <path d=\"M18.56 5.44l.94 2.06.94-2.06 2.06-.94-2.06-.94-.94-2.06-.94 2.06-2.06.94zm-11 1L8.5 8.5l.94-2.06 2.06-.94-2.06-.94L8.5 2.5l-.94 2.06-2.06.94zm10 10l.94 2.06.94-2.06 2.06-.94-2.06-.94-.94-2.06-.94 2.06-2.06.94z\"/><path d=\"M17.41 7.96l-1.37-1.37c-.4-.4-.92-.59-1.43-.59-.52 0-1.04.2-1.43.59L10.3 9.45l-7.72 7.72c-.78.78-.78 2.05 0 2.83L4 21.41c.39.39.9.59 1.41.59.51 0 1.02-.2 1.41-.59l7.78-7.78 2.81-2.81c.8-.78.8-2.07 0-2.86zM5.41 20L4 18.59l7.72-7.72 1.47 1.35L5.41 20z\"/>\n",
              "  </svg>\n",
              "      </button>\n",
              "      \n",
              "  <style>\n",
              "    .colab-df-container {\n",
              "      display:flex;\n",
              "      flex-wrap:wrap;\n",
              "      gap: 12px;\n",
              "    }\n",
              "\n",
              "    .colab-df-convert {\n",
              "      background-color: #E8F0FE;\n",
              "      border: none;\n",
              "      border-radius: 50%;\n",
              "      cursor: pointer;\n",
              "      display: none;\n",
              "      fill: #1967D2;\n",
              "      height: 32px;\n",
              "      padding: 0 0 0 0;\n",
              "      width: 32px;\n",
              "    }\n",
              "\n",
              "    .colab-df-convert:hover {\n",
              "      background-color: #E2EBFA;\n",
              "      box-shadow: 0px 1px 2px rgba(60, 64, 67, 0.3), 0px 1px 3px 1px rgba(60, 64, 67, 0.15);\n",
              "      fill: #174EA6;\n",
              "    }\n",
              "\n",
              "    [theme=dark] .colab-df-convert {\n",
              "      background-color: #3B4455;\n",
              "      fill: #D2E3FC;\n",
              "    }\n",
              "\n",
              "    [theme=dark] .colab-df-convert:hover {\n",
              "      background-color: #434B5C;\n",
              "      box-shadow: 0px 1px 3px 1px rgba(0, 0, 0, 0.15);\n",
              "      filter: drop-shadow(0px 1px 2px rgba(0, 0, 0, 0.3));\n",
              "      fill: #FFFFFF;\n",
              "    }\n",
              "  </style>\n",
              "\n",
              "      <script>\n",
              "        const buttonEl =\n",
              "          document.querySelector('#df-80d81f20-e31c-4c9f-b2a0-3f637826e0c4 button.colab-df-convert');\n",
              "        buttonEl.style.display =\n",
              "          google.colab.kernel.accessAllowed ? 'block' : 'none';\n",
              "\n",
              "        async function convertToInteractive(key) {\n",
              "          const element = document.querySelector('#df-80d81f20-e31c-4c9f-b2a0-3f637826e0c4');\n",
              "          const dataTable =\n",
              "            await google.colab.kernel.invokeFunction('convertToInteractive',\n",
              "                                                     [key], {});\n",
              "          if (!dataTable) return;\n",
              "\n",
              "          const docLinkHtml = 'Like what you see? Visit the ' +\n",
              "            '<a target=\"_blank\" href=https://colab.research.google.com/notebooks/data_table.ipynb>data table notebook</a>'\n",
              "            + ' to learn more about interactive tables.';\n",
              "          element.innerHTML = '';\n",
              "          dataTable['output_type'] = 'display_data';\n",
              "          await google.colab.output.renderOutput(dataTable, element);\n",
              "          const docLink = document.createElement('div');\n",
              "          docLink.innerHTML = docLinkHtml;\n",
              "          element.appendChild(docLink);\n",
              "        }\n",
              "      </script>\n",
              "    </div>\n",
              "  </div>\n",
              "  "
            ]
          },
          "metadata": {},
          "execution_count": 5
        }
      ]
    },
    {
      "cell_type": "code",
      "source": [
        "import nltk\n",
        "from nltk.corpus import stopwords\n",
        "from nltk.stem import WordNetLemmatizer\n",
        "from nltk.tokenize import word_tokenize\n",
        "import re"
      ],
      "metadata": {
        "id": "TGacTfceEMWO"
      },
      "execution_count": 6,
      "outputs": []
    },
    {
      "cell_type": "code",
      "source": [
        "\n",
        "# Download NLTK resources\n",
        "nltk.download('punkt')\n",
        "nltk.download('wordnet')\n",
        "nltk.download('stopwords')"
      ],
      "metadata": {
        "colab": {
          "base_uri": "https://localhost:8080/"
        },
        "id": "aULgF4YJEQVs",
        "outputId": "fb49cb62-287b-4a3a-9d93-5443dab4a646"
      },
      "execution_count": 7,
      "outputs": [
        {
          "output_type": "stream",
          "name": "stderr",
          "text": [
            "[nltk_data] Downloading package punkt to /root/nltk_data...\n",
            "[nltk_data]   Unzipping tokenizers/punkt.zip.\n",
            "[nltk_data] Downloading package wordnet to /root/nltk_data...\n",
            "[nltk_data] Downloading package stopwords to /root/nltk_data...\n",
            "[nltk_data]   Unzipping corpora/stopwords.zip.\n"
          ]
        },
        {
          "output_type": "execute_result",
          "data": {
            "text/plain": [
              "True"
            ]
          },
          "metadata": {},
          "execution_count": 7
        }
      ]
    },
    {
      "cell_type": "code",
      "source": [
        "# Define stopwords\n",
        "stop_words = set(stopwords.words('english'))\n",
        "\n",
        "# Initialize lemmatizer\n",
        "lemmatizer = WordNetLemmatizer()"
      ],
      "metadata": {
        "id": "OjRSK-uyEX1j"
      },
      "execution_count": 8,
      "outputs": []
    },
    {
      "cell_type": "code",
      "source": [
        "# Function to preprocess text\n",
        "def preprocess_text(text):\n",
        "    # Remove special characters and digits\n",
        "    text = re.sub(r'[^a-zA-Z]', ' ', text)\n",
        "    \n",
        "    # Convert text to lowercase\n",
        "    text = text.lower()\n",
        "    \n",
        "    # Tokenize text\n",
        "    tokens = word_tokenize(text)\n",
        "    \n",
        "    # Remove stopwords and perform lemmatization\n",
        "    cleaned_tokens = [lemmatizer.lemmatize(token) for token in tokens if token not in stop_words]\n",
        "    \n",
        "    # Join tokens back into a single string\n",
        "    cleaned_text = ' '.join(cleaned_tokens)\n",
        "    \n",
        "    return cleaned_text"
      ],
      "metadata": {
        "id": "P2BYpY0EEcWp"
      },
      "execution_count": 9,
      "outputs": []
    },
    {
      "cell_type": "code",
      "source": [
        "# Apply preprocessing to 'description' column\n",
        "df['cleaned_description'] = df['Discription'].apply(preprocess_text)"
      ],
      "metadata": {
        "id": "dCcf0Hw2EemA"
      },
      "execution_count": 10,
      "outputs": []
    },
    {
      "cell_type": "code",
      "source": [
        "\n",
        "\n",
        "# Save preprocessed data to a new CSV file\n",
        "df.to_csv('/content/preprocessed_data.csv', index=False)"
      ],
      "metadata": {
        "id": "yr3jP_oBEhC2"
      },
      "execution_count": 11,
      "outputs": []
    },
    {
      "cell_type": "code",
      "source": [
        "\n",
        "df"
      ],
      "metadata": {
        "colab": {
          "base_uri": "https://localhost:8080/",
          "height": 571
        },
        "id": "74dmxmukEky-",
        "outputId": "b226f55c-be3c-48ac-a178-5717508e0d01"
      },
      "execution_count": 12,
      "outputs": [
        {
          "output_type": "execute_result",
          "data": {
            "text/plain": [
              "                                            Discription  \\\n",
              "0     KINGDOM OF WHITE Replay Full Sleeves White Shi...   \n",
              "1                   United Colors of Benetton Men Shirt   \n",
              "2     KINGDOM OF WHITE Cloudy Full Sleeves White Kur...   \n",
              "3                   United Colors of Benetton Men Shirt   \n",
              "4     Dennis Lingo Men's Solid Slim Fit Cotton Casua...   \n",
              "...                                                 ...   \n",
              "1251              Multi-color High Neck Heart Print Top   \n",
              "1252                  Women Self Design Regular Fit Top   \n",
              "1253                                     Lilac Crop Top   \n",
              "1254                            Blue Printed A-Line Top   \n",
              "1255                       Peacock Cinched Shirt Jacket   \n",
              "\n",
              "                                                    url        Vendor  \\\n",
              "0     https://www.amazon.in/sspa/click?ie=UTF8&spc=M...        Amazon   \n",
              "1     https://www.amazon.in/sspa/click?ie=UTF8&spc=M...        Amazon   \n",
              "2     https://www.amazon.in/sspa/click?ie=UTF8&spc=M...        Amazon   \n",
              "3     https://www.amazon.in/sspa/click?ie=UTF8&spc=M...        Amazon   \n",
              "4     https://www.amazon.in/Dennis-Lingo-Solid-Casua...        Amazon   \n",
              "...                                                 ...           ...   \n",
              "1251  https://www.nykaafashion.com/mixt-by-nykaa-fas...  NykaaFashion   \n",
              "1252  https://www.nykaafashion.com/only-women-self-d...  NykaaFashion   \n",
              "1253  https://www.nykaafashion.com/i-saw-it-first-li...  NykaaFashion   \n",
              "1254  https://www.nykaafashion.com/qomn-blue-printed...  NykaaFashion   \n",
              "1255  https://www.nykaafashion.com/shaye-peacock-cin...  NykaaFashion   \n",
              "\n",
              "                                    cleaned_description  \n",
              "0     kingdom white replay full sleeve white shirt r...  \n",
              "1                       united color benetton men shirt  \n",
              "2     kingdom white cloudy full sleeve white kurta w...  \n",
              "3                       united color benetton men shirt  \n",
              "4     dennis lingo men solid slim fit cotton casual ...  \n",
              "...                                                 ...  \n",
              "1251              multi color high neck heart print top  \n",
              "1252                  woman self design regular fit top  \n",
              "1253                                     lilac crop top  \n",
              "1254                              blue printed line top  \n",
              "1255                       peacock cinched shirt jacket  \n",
              "\n",
              "[1256 rows x 4 columns]"
            ],
            "text/html": [
              "\n",
              "  <div id=\"df-04122fe3-c427-46ab-9234-a4ca059f00fa\">\n",
              "    <div class=\"colab-df-container\">\n",
              "      <div>\n",
              "<style scoped>\n",
              "    .dataframe tbody tr th:only-of-type {\n",
              "        vertical-align: middle;\n",
              "    }\n",
              "\n",
              "    .dataframe tbody tr th {\n",
              "        vertical-align: top;\n",
              "    }\n",
              "\n",
              "    .dataframe thead th {\n",
              "        text-align: right;\n",
              "    }\n",
              "</style>\n",
              "<table border=\"1\" class=\"dataframe\">\n",
              "  <thead>\n",
              "    <tr style=\"text-align: right;\">\n",
              "      <th></th>\n",
              "      <th>Discription</th>\n",
              "      <th>url</th>\n",
              "      <th>Vendor</th>\n",
              "      <th>cleaned_description</th>\n",
              "    </tr>\n",
              "  </thead>\n",
              "  <tbody>\n",
              "    <tr>\n",
              "      <th>0</th>\n",
              "      <td>KINGDOM OF WHITE Replay Full Sleeves White Shi...</td>\n",
              "      <td>https://www.amazon.in/sspa/click?ie=UTF8&amp;spc=M...</td>\n",
              "      <td>Amazon</td>\n",
              "      <td>kingdom white replay full sleeve white shirt r...</td>\n",
              "    </tr>\n",
              "    <tr>\n",
              "      <th>1</th>\n",
              "      <td>United Colors of Benetton Men Shirt</td>\n",
              "      <td>https://www.amazon.in/sspa/click?ie=UTF8&amp;spc=M...</td>\n",
              "      <td>Amazon</td>\n",
              "      <td>united color benetton men shirt</td>\n",
              "    </tr>\n",
              "    <tr>\n",
              "      <th>2</th>\n",
              "      <td>KINGDOM OF WHITE Cloudy Full Sleeves White Kur...</td>\n",
              "      <td>https://www.amazon.in/sspa/click?ie=UTF8&amp;spc=M...</td>\n",
              "      <td>Amazon</td>\n",
              "      <td>kingdom white cloudy full sleeve white kurta w...</td>\n",
              "    </tr>\n",
              "    <tr>\n",
              "      <th>3</th>\n",
              "      <td>United Colors of Benetton Men Shirt</td>\n",
              "      <td>https://www.amazon.in/sspa/click?ie=UTF8&amp;spc=M...</td>\n",
              "      <td>Amazon</td>\n",
              "      <td>united color benetton men shirt</td>\n",
              "    </tr>\n",
              "    <tr>\n",
              "      <th>4</th>\n",
              "      <td>Dennis Lingo Men's Solid Slim Fit Cotton Casua...</td>\n",
              "      <td>https://www.amazon.in/Dennis-Lingo-Solid-Casua...</td>\n",
              "      <td>Amazon</td>\n",
              "      <td>dennis lingo men solid slim fit cotton casual ...</td>\n",
              "    </tr>\n",
              "    <tr>\n",
              "      <th>...</th>\n",
              "      <td>...</td>\n",
              "      <td>...</td>\n",
              "      <td>...</td>\n",
              "      <td>...</td>\n",
              "    </tr>\n",
              "    <tr>\n",
              "      <th>1251</th>\n",
              "      <td>Multi-color High Neck Heart Print Top</td>\n",
              "      <td>https://www.nykaafashion.com/mixt-by-nykaa-fas...</td>\n",
              "      <td>NykaaFashion</td>\n",
              "      <td>multi color high neck heart print top</td>\n",
              "    </tr>\n",
              "    <tr>\n",
              "      <th>1252</th>\n",
              "      <td>Women Self Design Regular Fit Top</td>\n",
              "      <td>https://www.nykaafashion.com/only-women-self-d...</td>\n",
              "      <td>NykaaFashion</td>\n",
              "      <td>woman self design regular fit top</td>\n",
              "    </tr>\n",
              "    <tr>\n",
              "      <th>1253</th>\n",
              "      <td>Lilac Crop Top</td>\n",
              "      <td>https://www.nykaafashion.com/i-saw-it-first-li...</td>\n",
              "      <td>NykaaFashion</td>\n",
              "      <td>lilac crop top</td>\n",
              "    </tr>\n",
              "    <tr>\n",
              "      <th>1254</th>\n",
              "      <td>Blue Printed A-Line Top</td>\n",
              "      <td>https://www.nykaafashion.com/qomn-blue-printed...</td>\n",
              "      <td>NykaaFashion</td>\n",
              "      <td>blue printed line top</td>\n",
              "    </tr>\n",
              "    <tr>\n",
              "      <th>1255</th>\n",
              "      <td>Peacock Cinched Shirt Jacket</td>\n",
              "      <td>https://www.nykaafashion.com/shaye-peacock-cin...</td>\n",
              "      <td>NykaaFashion</td>\n",
              "      <td>peacock cinched shirt jacket</td>\n",
              "    </tr>\n",
              "  </tbody>\n",
              "</table>\n",
              "<p>1256 rows × 4 columns</p>\n",
              "</div>\n",
              "      <button class=\"colab-df-convert\" onclick=\"convertToInteractive('df-04122fe3-c427-46ab-9234-a4ca059f00fa')\"\n",
              "              title=\"Convert this dataframe to an interactive table.\"\n",
              "              style=\"display:none;\">\n",
              "        \n",
              "  <svg xmlns=\"http://www.w3.org/2000/svg\" height=\"24px\"viewBox=\"0 0 24 24\"\n",
              "       width=\"24px\">\n",
              "    <path d=\"M0 0h24v24H0V0z\" fill=\"none\"/>\n",
              "    <path d=\"M18.56 5.44l.94 2.06.94-2.06 2.06-.94-2.06-.94-.94-2.06-.94 2.06-2.06.94zm-11 1L8.5 8.5l.94-2.06 2.06-.94-2.06-.94L8.5 2.5l-.94 2.06-2.06.94zm10 10l.94 2.06.94-2.06 2.06-.94-2.06-.94-.94-2.06-.94 2.06-2.06.94z\"/><path d=\"M17.41 7.96l-1.37-1.37c-.4-.4-.92-.59-1.43-.59-.52 0-1.04.2-1.43.59L10.3 9.45l-7.72 7.72c-.78.78-.78 2.05 0 2.83L4 21.41c.39.39.9.59 1.41.59.51 0 1.02-.2 1.41-.59l7.78-7.78 2.81-2.81c.8-.78.8-2.07 0-2.86zM5.41 20L4 18.59l7.72-7.72 1.47 1.35L5.41 20z\"/>\n",
              "  </svg>\n",
              "      </button>\n",
              "      \n",
              "  <style>\n",
              "    .colab-df-container {\n",
              "      display:flex;\n",
              "      flex-wrap:wrap;\n",
              "      gap: 12px;\n",
              "    }\n",
              "\n",
              "    .colab-df-convert {\n",
              "      background-color: #E8F0FE;\n",
              "      border: none;\n",
              "      border-radius: 50%;\n",
              "      cursor: pointer;\n",
              "      display: none;\n",
              "      fill: #1967D2;\n",
              "      height: 32px;\n",
              "      padding: 0 0 0 0;\n",
              "      width: 32px;\n",
              "    }\n",
              "\n",
              "    .colab-df-convert:hover {\n",
              "      background-color: #E2EBFA;\n",
              "      box-shadow: 0px 1px 2px rgba(60, 64, 67, 0.3), 0px 1px 3px 1px rgba(60, 64, 67, 0.15);\n",
              "      fill: #174EA6;\n",
              "    }\n",
              "\n",
              "    [theme=dark] .colab-df-convert {\n",
              "      background-color: #3B4455;\n",
              "      fill: #D2E3FC;\n",
              "    }\n",
              "\n",
              "    [theme=dark] .colab-df-convert:hover {\n",
              "      background-color: #434B5C;\n",
              "      box-shadow: 0px 1px 3px 1px rgba(0, 0, 0, 0.15);\n",
              "      filter: drop-shadow(0px 1px 2px rgba(0, 0, 0, 0.3));\n",
              "      fill: #FFFFFF;\n",
              "    }\n",
              "  </style>\n",
              "\n",
              "      <script>\n",
              "        const buttonEl =\n",
              "          document.querySelector('#df-04122fe3-c427-46ab-9234-a4ca059f00fa button.colab-df-convert');\n",
              "        buttonEl.style.display =\n",
              "          google.colab.kernel.accessAllowed ? 'block' : 'none';\n",
              "\n",
              "        async function convertToInteractive(key) {\n",
              "          const element = document.querySelector('#df-04122fe3-c427-46ab-9234-a4ca059f00fa');\n",
              "          const dataTable =\n",
              "            await google.colab.kernel.invokeFunction('convertToInteractive',\n",
              "                                                     [key], {});\n",
              "          if (!dataTable) return;\n",
              "\n",
              "          const docLinkHtml = 'Like what you see? Visit the ' +\n",
              "            '<a target=\"_blank\" href=https://colab.research.google.com/notebooks/data_table.ipynb>data table notebook</a>'\n",
              "            + ' to learn more about interactive tables.';\n",
              "          element.innerHTML = '';\n",
              "          dataTable['output_type'] = 'display_data';\n",
              "          await google.colab.output.renderOutput(dataTable, element);\n",
              "          const docLink = document.createElement('div');\n",
              "          docLink.innerHTML = docLinkHtml;\n",
              "          element.appendChild(docLink);\n",
              "        }\n",
              "      </script>\n",
              "    </div>\n",
              "  </div>\n",
              "  "
            ]
          },
          "metadata": {},
          "execution_count": 12
        }
      ]
    },
    {
      "cell_type": "code",
      "source": [
        "\n",
        "from sklearn.feature_extraction.text import TfidfVectorizer\n",
        "from sklearn.metrics.pairwise import cosine_similarity"
      ],
      "metadata": {
        "id": "CDKaTRUCEp0E"
      },
      "execution_count": 13,
      "outputs": []
    },
    {
      "cell_type": "code",
      "source": [
        "# Load preprocessed data from CSV file\n",
        "df = pd.read_csv('/content/preprocessed_data.csv')\n",
        "\n",
        "# Get the preprocessed descriptions as a list\n",
        "preprocessed_descriptions = df['cleaned_description'].tolist()"
      ],
      "metadata": {
        "id": "nhed7HCGEsMZ"
      },
      "execution_count": 14,
      "outputs": []
    },
    {
      "cell_type": "code",
      "source": [
        "# Initialize TF-IDF vectorizer\n",
        "vectorizer = TfidfVectorizer()\n",
        "\n",
        "# Fit and transform the preprocessed descriptions\n",
        "tfidf_matrix = vectorizer.fit_transform(preprocessed_descriptions)"
      ],
      "metadata": {
        "id": "lHrx5hw9Euw5"
      },
      "execution_count": 15,
      "outputs": []
    },
    {
      "cell_type": "code",
      "source": [
        "# Function to compute similarity between input text and database texts\n",
        "def compute_similarity(input_text):\n",
        "    # Preprocess the input text\n",
        "    cleaned_input_text = preprocess_text(input_text)\n",
        "    \n",
        "    # Transform the input text using the fitted TF-IDF vectorizer\n",
        "    input_tfidf = vectorizer.transform([cleaned_input_text])\n",
        "    \n",
        "    # Compute cosine similarity between the input text and database texts\n",
        "    similarity_scores = cosine_similarity(input_tfidf, tfidf_matrix)\n",
        "    \n",
        "    # Get indices of top-N most similar items\n",
        "    top_indices = similarity_scores.argsort()[0][-N:][::-1]\n",
        "    \n",
        "    # Get URLs of top-N most similar items\n",
        "    top_urls = df.loc[top_indices, 'url'].tolist()\n",
        "    \n",
        "    return top_urls"
      ],
      "metadata": {
        "id": "rDaMPB_lExUr"
      },
      "execution_count": 16,
      "outputs": []
    },
    {
      "cell_type": "code",
      "source": [
        "dress=input(\"enter your required outfit =\")"
      ],
      "metadata": {
        "colab": {
          "base_uri": "https://localhost:8080/"
        },
        "id": "aj60dt9SFnw7",
        "outputId": "67b5b726-105c-428c-9063-f675617e1342"
      },
      "execution_count": 27,
      "outputs": [
        {
          "name": "stdout",
          "output_type": "stream",
          "text": [
            "enter your required outfit =jeans\n"
          ]
        }
      ]
    },
    {
      "cell_type": "code",
      "source": [
        "\n",
        "# Example usage\n",
        "input_text = dress\n",
        "N = 10 # Number of top similar items to retrieve\n",
        "\n",
        "# Compute similarity and get top-N most similar item URLs\n",
        "similar_item_urls = compute_similarity(input_text)\n",
        "\n",
        "print(similar_item_urls)"
      ],
      "metadata": {
        "colab": {
          "base_uri": "https://localhost:8080/"
        },
        "id": "lki40RQVE0D7",
        "outputId": "2d8ee401-bdc2-453f-c74e-620a8a394fba"
      },
      "execution_count": 30,
      "outputs": [
        {
          "output_type": "stream",
          "name": "stdout",
          "text": [
            "['https://www.nykaafashion.com/louis-philippe-blue-jeans/p/8573099', 'https://www.amazon.in/Pepe-Jeans-Mens-Skinny-PM207354S648_Green_32/dp/B0BSH54C53/ref=sr_1_63?crid=2K9YJ49BYTK89&keywords=jeans&qid=1684570653&sprefix=jeans%2Caps%2C346&sr=8-63', 'https://www.amazon.in/Pepe-Jeans-Mens-Slim-PM207357Q033_Blue_34/dp/B0BSH4YYB1/ref=sr_1_56?crid=2K9YJ49BYTK89&keywords=jeans&qid=1684569851&sprefix=jeans%2Caps%2C346&sr=8-56', 'https://www.amazon.in/Pepe-Jeans-Mens-Slim-PM207351G223_Blue_34/dp/B0BSH5XSK7/ref=sr_1_53?crid=2K9YJ49BYTK89&keywords=jeans&qid=1684569851&sprefix=jeans%2Caps%2C346&sr=8-53', 'https://www.amazon.in/Pepe-Jeans-Mens-Slim-PM207357Q033_Blue_34/dp/B0BSH4YYB1/ref=sr_1_82?crid=2K9YJ49BYTK89&keywords=jeans&qid=1684570653&sprefix=jeans%2Caps%2C346&sr=8-82', 'https://www.nykaafashion.com/urbano-fashion-men-slim-fit-jeans-22/p/2175555', 'https://www.nykaafashion.com/forever-21-blue-solid-jeans/p/8512357', 'https://www.nykaafashion.com/louis-philippe-jeans-mens-solid-black-jeans/p/8059929', 'https://www.nykaafashion.com/vero-moda-women-solid-blue-jean/p/7846684', 'https://www.flipkart.com/fabtag-ragzo-slim-men-blue-jeans/p/itmevqebwfhhmanz?pid=JEAEVQ47635SUCC4&lid=LSTJEAEVQ47635SUCC4LZSTEC&marketplace=FLIPKART&q=jeans&store=clo%2Fvua%2Fk58&srno=s_3_111&otracker=search&otracker1=search&fm=organic&iid=en_tbFlfdtllh21AxhYwn3U1f3VMV5IKTavHLVnK6WzP%2BajqGlSpjS1bO6x38mQarvPHpHwRlwDxA1A62hNI9qJ7Q%3D%3D&ppt=None&ppn=None&ssid=g3ezoeekw00000001684600219860&qH=a0f2589b1ced4dec']\n"
          ]
        }
      ]
    },
    {
      "cell_type": "code",
      "source": [
        "\n",
        "for item in similar_item_urls:\n",
        "  print(item)"
      ],
      "metadata": {
        "colab": {
          "base_uri": "https://localhost:8080/"
        },
        "id": "gj7LGu-SE5tw",
        "outputId": "df067383-ded1-4595-9b55-6c5323269569"
      },
      "execution_count": 31,
      "outputs": [
        {
          "output_type": "stream",
          "name": "stdout",
          "text": [
            "https://www.nykaafashion.com/louis-philippe-blue-jeans/p/8573099\n",
            "https://www.amazon.in/Pepe-Jeans-Mens-Skinny-PM207354S648_Green_32/dp/B0BSH54C53/ref=sr_1_63?crid=2K9YJ49BYTK89&keywords=jeans&qid=1684570653&sprefix=jeans%2Caps%2C346&sr=8-63\n",
            "https://www.amazon.in/Pepe-Jeans-Mens-Slim-PM207357Q033_Blue_34/dp/B0BSH4YYB1/ref=sr_1_56?crid=2K9YJ49BYTK89&keywords=jeans&qid=1684569851&sprefix=jeans%2Caps%2C346&sr=8-56\n",
            "https://www.amazon.in/Pepe-Jeans-Mens-Slim-PM207351G223_Blue_34/dp/B0BSH5XSK7/ref=sr_1_53?crid=2K9YJ49BYTK89&keywords=jeans&qid=1684569851&sprefix=jeans%2Caps%2C346&sr=8-53\n",
            "https://www.amazon.in/Pepe-Jeans-Mens-Slim-PM207357Q033_Blue_34/dp/B0BSH4YYB1/ref=sr_1_82?crid=2K9YJ49BYTK89&keywords=jeans&qid=1684570653&sprefix=jeans%2Caps%2C346&sr=8-82\n",
            "https://www.nykaafashion.com/urbano-fashion-men-slim-fit-jeans-22/p/2175555\n",
            "https://www.nykaafashion.com/forever-21-blue-solid-jeans/p/8512357\n",
            "https://www.nykaafashion.com/louis-philippe-jeans-mens-solid-black-jeans/p/8059929\n",
            "https://www.nykaafashion.com/vero-moda-women-solid-blue-jean/p/7846684\n",
            "https://www.flipkart.com/fabtag-ragzo-slim-men-blue-jeans/p/itmevqebwfhhmanz?pid=JEAEVQ47635SUCC4&lid=LSTJEAEVQ47635SUCC4LZSTEC&marketplace=FLIPKART&q=jeans&store=clo%2Fvua%2Fk58&srno=s_3_111&otracker=search&otracker1=search&fm=organic&iid=en_tbFlfdtllh21AxhYwn3U1f3VMV5IKTavHLVnK6WzP%2BajqGlSpjS1bO6x38mQarvPHpHwRlwDxA1A62hNI9qJ7Q%3D%3D&ppt=None&ppn=None&ssid=g3ezoeekw00000001684600219860&qH=a0f2589b1ced4dec\n"
          ]
        }
      ]
    }
  ]
}